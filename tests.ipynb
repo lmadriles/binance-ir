{
 "cells": [
  {
   "cell_type": "code",
   "execution_count": 1,
   "metadata": {},
   "outputs": [],
   "source": [
    "import pandas as pd"
   ]
  },
  {
   "cell_type": "code",
   "execution_count": 2,
   "metadata": {},
   "outputs": [],
   "source": [
    "pd.set_option('display.float_format', lambda x: '%.8f' % x) \n",
    "# change the visualization of a float to eight decimal digits."
   ]
  },
  {
   "cell_type": "code",
   "execution_count": 3,
   "metadata": {},
   "outputs": [],
   "source": [
    "# raw: unnessessary\n",
    "binance22 = pd.read_csv('data/raw/extrato_binance_2022.csv')\n",
    "binance23 = pd.read_csv('data/raw/extrato_binance_2023.csv')\n"
   ]
  },
  {
   "cell_type": "code",
   "execution_count": 4,
   "metadata": {},
   "outputs": [],
   "source": [
    "# processed:\n",
    "binance = pd.read_csv('data/processed/extrato_binance.csv', index_col=0)\n",
    "binance.sort_index(inplace=True)"
   ]
  },
  {
   "cell_type": "code",
   "execution_count": 5,
   "metadata": {},
   "outputs": [],
   "source": [
    "# final\n",
    "binance = pd.read_csv('data/final/saldo_binance.csv', index_col=0)\n",
    "trezor = pd.read_csv('data/final/saldo_trezor.csv', index_col=0)\n",
    "binance_complete = pd.read_csv('data/final/binance_dates.csv', index_col=0)"
   ]
  },
  {
   "cell_type": "code",
   "execution_count": 6,
   "metadata": {},
   "outputs": [
    {
     "data": {
      "text/html": [
       "<div>\n",
       "<style scoped>\n",
       "    .dataframe tbody tr th:only-of-type {\n",
       "        vertical-align: middle;\n",
       "    }\n",
       "\n",
       "    .dataframe tbody tr th {\n",
       "        vertical-align: top;\n",
       "    }\n",
       "\n",
       "    .dataframe thead th {\n",
       "        text-align: right;\n",
       "    }\n",
       "</style>\n",
       "<table border=\"1\" class=\"dataframe\">\n",
       "  <thead>\n",
       "    <tr style=\"text-align: right;\">\n",
       "      <th></th>\n",
       "      <th>UTC_Time</th>\n",
       "      <th>Balance</th>\n",
       "      <th>BRL_spent</th>\n",
       "      <th>Mean_price</th>\n",
       "    </tr>\n",
       "    <tr>\n",
       "      <th>Coin</th>\n",
       "      <th></th>\n",
       "      <th></th>\n",
       "      <th></th>\n",
       "      <th></th>\n",
       "    </tr>\n",
       "  </thead>\n",
       "  <tbody>\n",
       "    <tr>\n",
       "      <th>BTC</th>\n",
       "      <td>2022-01-04 19:50:53</td>\n",
       "      <td>0.00200996</td>\n",
       "      <td>250.00000000</td>\n",
       "      <td>124380.58468825</td>\n",
       "    </tr>\n",
       "    <tr>\n",
       "      <th>BUSD</th>\n",
       "      <td>2022-02-19 02:28:25</td>\n",
       "      <td>0.00669834</td>\n",
       "      <td>0.00000000</td>\n",
       "      <td>0.00000000</td>\n",
       "    </tr>\n",
       "    <tr>\n",
       "      <th>LUNA</th>\n",
       "      <td>2022-03-07 17:16:16</td>\n",
       "      <td>0.03968038</td>\n",
       "      <td>0.00000000</td>\n",
       "      <td>0.00000000</td>\n",
       "    </tr>\n",
       "    <tr>\n",
       "      <th>MATIC</th>\n",
       "      <td>2022-08-24 14:43:07</td>\n",
       "      <td>116.41497617</td>\n",
       "      <td>650.34178706</td>\n",
       "      <td>5.58641000</td>\n",
       "    </tr>\n",
       "    <tr>\n",
       "      <th>ETHW</th>\n",
       "      <td>2022-09-20 01:18:13</td>\n",
       "      <td>0.33923493</td>\n",
       "      <td>0.00000000</td>\n",
       "      <td>0.00000000</td>\n",
       "    </tr>\n",
       "  </tbody>\n",
       "</table>\n",
       "</div>"
      ],
      "text/plain": [
       "                  UTC_Time      Balance    BRL_spent      Mean_price\n",
       "Coin                                                                \n",
       "BTC    2022-01-04 19:50:53   0.00200996 250.00000000 124380.58468825\n",
       "BUSD   2022-02-19 02:28:25   0.00669834   0.00000000      0.00000000\n",
       "LUNA   2022-03-07 17:16:16   0.03968038   0.00000000      0.00000000\n",
       "MATIC  2022-08-24 14:43:07 116.41497617 650.34178706      5.58641000\n",
       "ETHW   2022-09-20 01:18:13   0.33923493   0.00000000      0.00000000"
      ]
     },
     "execution_count": 6,
     "metadata": {},
     "output_type": "execute_result"
    }
   ],
   "source": [
    "binance"
   ]
  },
  {
   "cell_type": "code",
   "execution_count": 7,
   "metadata": {},
   "outputs": [
    {
     "data": {
      "text/html": [
       "<div>\n",
       "<style scoped>\n",
       "    .dataframe tbody tr th:only-of-type {\n",
       "        vertical-align: middle;\n",
       "    }\n",
       "\n",
       "    .dataframe tbody tr th {\n",
       "        vertical-align: top;\n",
       "    }\n",
       "\n",
       "    .dataframe thead th {\n",
       "        text-align: right;\n",
       "    }\n",
       "</style>\n",
       "<table border=\"1\" class=\"dataframe\">\n",
       "  <thead>\n",
       "    <tr style=\"text-align: right;\">\n",
       "      <th></th>\n",
       "      <th>Amount</th>\n",
       "      <th>BRL_spent</th>\n",
       "      <th>Mean_price</th>\n",
       "    </tr>\n",
       "  </thead>\n",
       "  <tbody>\n",
       "    <tr>\n",
       "      <th>BRL</th>\n",
       "      <td>15091.74000000</td>\n",
       "      <td>15091.74000000</td>\n",
       "      <td>1.00000000</td>\n",
       "    </tr>\n",
       "    <tr>\n",
       "      <th>ETH</th>\n",
       "      <td>0.52902128</td>\n",
       "      <td>4820.77315853</td>\n",
       "      <td>9112.62616605</td>\n",
       "    </tr>\n",
       "    <tr>\n",
       "      <th>BTC</th>\n",
       "      <td>0.14764959</td>\n",
       "      <td>16967.83666190</td>\n",
       "      <td>114919.63277309</td>\n",
       "    </tr>\n",
       "  </tbody>\n",
       "</table>\n",
       "</div>"
      ],
      "text/plain": [
       "            Amount      BRL_spent      Mean_price\n",
       "BRL 15091.74000000 15091.74000000      1.00000000\n",
       "ETH     0.52902128  4820.77315853   9112.62616605\n",
       "BTC     0.14764959 16967.83666190 114919.63277309"
      ]
     },
     "execution_count": 7,
     "metadata": {},
     "output_type": "execute_result"
    }
   ],
   "source": [
    "trezor"
   ]
  },
  {
   "cell_type": "code",
   "execution_count": null,
   "metadata": {},
   "outputs": [],
   "source": []
  }
 ],
 "metadata": {
  "kernelspec": {
   "display_name": "crypto",
   "language": "python",
   "name": "python3"
  },
  "language_info": {
   "codemirror_mode": {
    "name": "ipython",
    "version": 3
   },
   "file_extension": ".py",
   "mimetype": "text/x-python",
   "name": "python",
   "nbconvert_exporter": "python",
   "pygments_lexer": "ipython3",
   "version": "3.10.9"
  },
  "orig_nbformat": 4,
  "vscode": {
   "interpreter": {
    "hash": "cc3d8445050dee5e1cd70e471672383a0e613d349a3d05c6f4a82ca37b253bd7"
   }
  }
 },
 "nbformat": 4,
 "nbformat_minor": 2
}

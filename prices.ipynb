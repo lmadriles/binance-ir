{
 "cells": [
  {
   "cell_type": "code",
   "execution_count": 98,
   "metadata": {},
   "outputs": [
    {
     "name": "stdout",
     "output_type": "stream",
     "text": [
      "Requirement already satisfied: yfinance in c:\\users\\lmadr\\anaconda3\\envs\\crypto\\lib\\site-packages (0.2.12)\n",
      "Requirement already satisfied: html5lib>=1.1 in c:\\users\\lmadr\\anaconda3\\envs\\crypto\\lib\\site-packages (from yfinance) (1.1)\n",
      "Requirement already satisfied: lxml>=4.9.1 in c:\\users\\lmadr\\anaconda3\\envs\\crypto\\lib\\site-packages (from yfinance) (4.9.2)\n",
      "Requirement already satisfied: appdirs>=1.4.4 in c:\\users\\lmadr\\anaconda3\\envs\\crypto\\lib\\site-packages (from yfinance) (1.4.4)\n",
      "Requirement already satisfied: numpy>=1.16.5 in c:\\users\\lmadr\\anaconda3\\envs\\crypto\\lib\\site-packages (from yfinance) (1.24.2)\n",
      "Requirement already satisfied: requests>=2.26 in c:\\users\\lmadr\\anaconda3\\envs\\crypto\\lib\\site-packages (from yfinance) (2.28.2)\n",
      "Requirement already satisfied: multitasking>=0.0.7 in c:\\users\\lmadr\\anaconda3\\envs\\crypto\\lib\\site-packages (from yfinance) (0.0.11)\n",
      "Requirement already satisfied: beautifulsoup4>=4.11.1 in c:\\users\\lmadr\\anaconda3\\envs\\crypto\\lib\\site-packages (from yfinance) (4.11.2)\n",
      "Requirement already satisfied: frozendict>=2.3.4 in c:\\users\\lmadr\\anaconda3\\envs\\crypto\\lib\\site-packages (from yfinance) (2.3.5)\n",
      "Requirement already satisfied: cryptography>=3.3.2 in c:\\users\\lmadr\\anaconda3\\envs\\crypto\\lib\\site-packages (from yfinance) (39.0.2)\n",
      "Requirement already satisfied: pandas>=1.3.0 in c:\\users\\lmadr\\anaconda3\\envs\\crypto\\lib\\site-packages (from yfinance) (1.5.3)\n",
      "Requirement already satisfied: pytz>=2022.5 in c:\\users\\lmadr\\anaconda3\\envs\\crypto\\lib\\site-packages (from yfinance) (2022.7.1)\n",
      "Requirement already satisfied: soupsieve>1.2 in c:\\users\\lmadr\\anaconda3\\envs\\crypto\\lib\\site-packages (from beautifulsoup4>=4.11.1->yfinance) (2.4)\n",
      "Requirement already satisfied: cffi>=1.12 in c:\\users\\lmadr\\anaconda3\\envs\\crypto\\lib\\site-packages (from cryptography>=3.3.2->yfinance) (1.15.1)\n",
      "Requirement already satisfied: six>=1.9 in c:\\users\\lmadr\\anaconda3\\envs\\crypto\\lib\\site-packages (from html5lib>=1.1->yfinance) (1.16.0)\n",
      "Requirement already satisfied: webencodings in c:\\users\\lmadr\\anaconda3\\envs\\crypto\\lib\\site-packages (from html5lib>=1.1->yfinance) (0.5.1)\n",
      "Requirement already satisfied: python-dateutil>=2.8.1 in c:\\users\\lmadr\\anaconda3\\envs\\crypto\\lib\\site-packages (from pandas>=1.3.0->yfinance) (2.8.2)\n",
      "Requirement already satisfied: idna<4,>=2.5 in c:\\users\\lmadr\\anaconda3\\envs\\crypto\\lib\\site-packages (from requests>=2.26->yfinance) (3.4)\n",
      "Requirement already satisfied: charset-normalizer<4,>=2 in c:\\users\\lmadr\\anaconda3\\envs\\crypto\\lib\\site-packages (from requests>=2.26->yfinance) (3.1.0)\n",
      "Requirement already satisfied: urllib3<1.27,>=1.21.1 in c:\\users\\lmadr\\anaconda3\\envs\\crypto\\lib\\site-packages (from requests>=2.26->yfinance) (1.26.15)\n",
      "Requirement already satisfied: certifi>=2017.4.17 in c:\\users\\lmadr\\anaconda3\\envs\\crypto\\lib\\site-packages (from requests>=2.26->yfinance) (2022.12.7)\n",
      "Requirement already satisfied: pycparser in c:\\users\\lmadr\\anaconda3\\envs\\crypto\\lib\\site-packages (from cffi>=1.12->cryptography>=3.3.2->yfinance) (2.21)\n",
      "Note: you may need to restart the kernel to use updated packages.\n"
     ]
    }
   ],
   "source": [
    "#%pip install pandas-datareader\n",
    "%pip install yfinance\n",
    "#!pip install yfinance --upgrade --no-cache-dir"
   ]
  },
  {
   "cell_type": "code",
   "execution_count": 99,
   "metadata": {},
   "outputs": [],
   "source": [
    "import pandas as pd\n",
    "from datetime import datetime, timedelta\n",
    "import yfinance as yf"
   ]
  },
  {
   "cell_type": "code",
   "execution_count": 100,
   "metadata": {},
   "outputs": [],
   "source": [
    "pd.set_option('display.float_format', lambda x: '%.8f' % x) \n",
    "# change the visualization of a float to eight decimal digits. Change this to a with statement."
   ]
  },
  {
   "cell_type": "code",
   "execution_count": 101,
   "metadata": {},
   "outputs": [],
   "source": [
    "binance = pd.read_csv('data/final/saldo_binance.csv', index_col=0) # final (it means wallets.py needs to run first)\n",
    "trezor = pd.read_csv('data/final/saldo_trezor.csv', index_col=0)\n",
    "binance_complete = pd.read_csv('data/final/binance_dates.csv', index_col=0)"
   ]
  },
  {
   "cell_type": "code",
   "execution_count": 102,
   "metadata": {},
   "outputs": [],
   "source": [
    "tickers = list(set(binance.index).union(trezor.index).union(binance_complete.index))\n",
    "tickers = ['ETH', 'MATIC', 'BTC'] # selecting only the relevant ones. (can change)"
   ]
  },
  {
   "cell_type": "code",
   "execution_count": 103,
   "metadata": {},
   "outputs": [
    {
     "name": "stdout",
     "output_type": "stream",
     "text": [
      "[*********************100%***********************]  1 of 1 completed\n",
      "[*********************100%***********************]  1 of 1 completed\n",
      "[*********************100%***********************]  1 of 1 completed\n",
      "                     ETH      MATIC            BTC\n",
      "Date                                              \n",
      "2023-11-20 2022.23913574 0.81151801 37476.95703125\n"
     ]
    }
   ],
   "source": [
    "# Set the start and end dates for the historical data (this one is for today price)\n",
    "start_date = (datetime.now()- timedelta(days=1)).strftime(\"%Y-%m-%d\")\n",
    "end_date = datetime.now().strftime(\"%Y-%m-%d\")\n",
    "\n",
    "# Fetch the historical data for each ticker using Yahoo Finance API\n",
    "hist_data = {}\n",
    "for ticker in tickers:\n",
    "    data = yf.download(ticker + '-USD', start=start_date, end=end_date)\n",
    "    hist_data[ticker] = data['Close']\n",
    "\n",
    "# Combine the historical data for all tickers into a single dataframe\n",
    "df = pd.concat(hist_data, axis=1, keys=tickers)\n",
    "\n",
    "# Print the head of the combined dataframe\n",
    "print(df.head())\n"
   ]
  },
  {
   "cell_type": "code",
   "execution_count": 104,
   "metadata": {},
   "outputs": [],
   "source": [
    "# Merge the two DataFrames on the 'Coin' column\n",
    "data = pd.merge(binance, trezor, left_index=True, right_index=True, how='outer')\n",
    "# summing values\n",
    "data['Balance'] = data['Amount'].add(data['Balance'], fill_value=0)\n",
    "data['BRL_spent'] = data['BRL_spent_x'].add(data['BRL_spent_y'], fill_value=0)\n",
    "# Drop unnecessary columns\n",
    "data = data.drop(['BRL_spent_x', 'Mean_price_x', 'Amount',\n",
    "       'BRL_spent_y', 'Mean_price_y'], axis=1)\n",
    "# calculate mean price\n",
    "data['Mean_price'] = data['BRL_spent'] / data['Balance'] "
   ]
  },
  {
   "cell_type": "code",
   "execution_count": 105,
   "metadata": {},
   "outputs": [
    {
     "name": "stdout",
     "output_type": "stream",
     "text": [
      "[*********************100%***********************]  1 of 1 completed\n",
      "The last exchange rate for BRL to USD is: 4.819177188583319\n"
     ]
    }
   ],
   "source": [
    "# Corretagem do dolar\n",
    "# Download the data\n",
    "dolar_hoje = yf.download('BRLUSD=X', start=start_date, end=end_date)\n",
    "\n",
    "# Print the last available exchange rate\n",
    "if not data.empty:\n",
    "    last_exchange_rate = 1/dolar_hoje['Close'].iloc[-1]\n",
    "    print(f'The last exchange rate for BRL to USD is: {last_exchange_rate}')\n",
    "else:\n",
    "    print('No data available.')"
   ]
  },
  {
   "cell_type": "code",
   "execution_count": 108,
   "metadata": {},
   "outputs": [
    {
     "data": {
      "text/html": [
       "<div>\n",
       "<style scoped>\n",
       "    .dataframe tbody tr th:only-of-type {\n",
       "        vertical-align: middle;\n",
       "    }\n",
       "\n",
       "    .dataframe tbody tr th {\n",
       "        vertical-align: top;\n",
       "    }\n",
       "\n",
       "    .dataframe thead th {\n",
       "        text-align: right;\n",
       "    }\n",
       "</style>\n",
       "<table border=\"1\" class=\"dataframe\">\n",
       "  <thead>\n",
       "    <tr style=\"text-align: right;\">\n",
       "      <th></th>\n",
       "      <th>UTC_Time</th>\n",
       "      <th>Balance</th>\n",
       "      <th>BRL_spent</th>\n",
       "      <th>Mean_price</th>\n",
       "      <th>2023-11-20 00:00:00</th>\n",
       "      <th>current_value</th>\n",
       "      <th>lucro</th>\n",
       "      <th>lucro%</th>\n",
       "    </tr>\n",
       "  </thead>\n",
       "  <tbody>\n",
       "    <tr>\n",
       "      <th>BTC</th>\n",
       "      <td>2022-01-04 19:50:53</td>\n",
       "      <td>0.22548431</td>\n",
       "      <td>28056.75570591</td>\n",
       "      <td>124428.86028705</td>\n",
       "      <td>180608.09642252</td>\n",
       "      <td>40724.29200224</td>\n",
       "      <td>12667.53629633</td>\n",
       "      <td>45.14968312</td>\n",
       "    </tr>\n",
       "    <tr>\n",
       "      <th>ETH</th>\n",
       "      <td>2022-01-08 22:46:43</td>\n",
       "      <td>0.26100225</td>\n",
       "      <td>2339.89590157</td>\n",
       "      <td>8965.04111199</td>\n",
       "      <td>9745.52871283</td>\n",
       "      <td>2543.60492149</td>\n",
       "      <td>203.70901992</td>\n",
       "      <td>8.70590097</td>\n",
       "    </tr>\n",
       "    <tr>\n",
       "      <th>MATIC</th>\n",
       "      <td>2022-08-24 14:43:07</td>\n",
       "      <td>122.13416286</td>\n",
       "      <td>399.00000000</td>\n",
       "      <td>3.26689921</td>\n",
       "      <td>3.91084910</td>\n",
       "      <td>477.64828074</td>\n",
       "      <td>78.64828074</td>\n",
       "      <td>19.71134856</td>\n",
       "    </tr>\n",
       "  </tbody>\n",
       "</table>\n",
       "</div>"
      ],
      "text/plain": [
       "                  UTC_Time      Balance      BRL_spent      Mean_price  \\\n",
       "BTC    2022-01-04 19:50:53   0.22548431 28056.75570591 124428.86028705   \n",
       "ETH    2022-01-08 22:46:43   0.26100225  2339.89590157   8965.04111199   \n",
       "MATIC  2022-08-24 14:43:07 122.13416286   399.00000000      3.26689921   \n",
       "\n",
       "       2023-11-20 00:00:00  current_value          lucro      lucro%  \n",
       "BTC        180608.09642252 40724.29200224 12667.53629633 45.14968312  \n",
       "ETH          9745.52871283  2543.60492149   203.70901992  8.70590097  \n",
       "MATIC           3.91084910   477.64828074    78.64828074 19.71134856  "
      ]
     },
     "execution_count": 108,
     "metadata": {},
     "output_type": "execute_result"
    }
   ],
   "source": [
    "# Concatenate the two DataFrames based on the common index values\n",
    "result_df = pd.concat([data.loc[['BTC', 'ETH', 'MATIC']], df.T * last_exchange_rate], axis=1)\n",
    "result_df['current_value'] = result_df.iloc[:,-1] * result_df['Balance']\n",
    "result_df['lucro'] = result_df['current_value'] - result_df['BRL_spent']\n",
    "result_df['lucro%'] = result_df['lucro'] / result_df['BRL_spent'] * 100\n",
    "result_df"
   ]
  },
  {
   "cell_type": "code",
   "execution_count": 112,
   "metadata": {},
   "outputs": [
    {
     "data": {
      "text/html": [
       "<div>\n",
       "<style scoped>\n",
       "    .dataframe tbody tr th:only-of-type {\n",
       "        vertical-align: middle;\n",
       "    }\n",
       "\n",
       "    .dataframe tbody tr th {\n",
       "        vertical-align: top;\n",
       "    }\n",
       "\n",
       "    .dataframe thead th {\n",
       "        text-align: right;\n",
       "    }\n",
       "</style>\n",
       "<table border=\"1\" class=\"dataframe\">\n",
       "  <thead>\n",
       "    <tr style=\"text-align: right;\">\n",
       "      <th></th>\n",
       "      <th>Mean_price</th>\n",
       "      <th>current_value</th>\n",
       "      <th>lucro%</th>\n",
       "    </tr>\n",
       "  </thead>\n",
       "  <tbody>\n",
       "    <tr>\n",
       "      <th>BTC</th>\n",
       "      <td>124428.86028705</td>\n",
       "      <td>40724.29200224</td>\n",
       "      <td>45.14968312</td>\n",
       "    </tr>\n",
       "    <tr>\n",
       "      <th>ETH</th>\n",
       "      <td>8965.04111199</td>\n",
       "      <td>2543.60492149</td>\n",
       "      <td>8.70590097</td>\n",
       "    </tr>\n",
       "    <tr>\n",
       "      <th>MATIC</th>\n",
       "      <td>3.26689921</td>\n",
       "      <td>477.64828074</td>\n",
       "      <td>19.71134856</td>\n",
       "    </tr>\n",
       "  </tbody>\n",
       "</table>\n",
       "</div>"
      ],
      "text/plain": [
       "           Mean_price  current_value      lucro%\n",
       "BTC   124428.86028705 40724.29200224 45.14968312\n",
       "ETH     8965.04111199  2543.60492149  8.70590097\n",
       "MATIC      3.26689921   477.64828074 19.71134856"
      ]
     },
     "execution_count": 112,
     "metadata": {},
     "output_type": "execute_result"
    }
   ],
   "source": [
    "result_df[['Mean_price', 'current_value','lucro%']]"
   ]
  }
 ],
 "metadata": {
  "kernelspec": {
   "display_name": "crypto",
   "language": "python",
   "name": "python3"
  },
  "language_info": {
   "codemirror_mode": {
    "name": "ipython",
    "version": 3
   },
   "file_extension": ".py",
   "mimetype": "text/x-python",
   "name": "python",
   "nbconvert_exporter": "python",
   "pygments_lexer": "ipython3",
   "version": "3.10.9"
  },
  "orig_nbformat": 4,
  "vscode": {
   "interpreter": {
    "hash": "cc3d8445050dee5e1cd70e471672383a0e613d349a3d05c6f4a82ca37b253bd7"
   }
  }
 },
 "nbformat": 4,
 "nbformat_minor": 2
}

{
 "cells": [
  {
   "cell_type": "code",
   "execution_count": 3,
   "metadata": {},
   "outputs": [],
   "source": [
    "import pandas as pd"
   ]
  },
  {
   "attachments": {},
   "cell_type": "markdown",
   "metadata": {},
   "source": [
    "Receber os dados raw e salvar em como queremos trabalhar"
   ]
  },
  {
   "attachments": {},
   "cell_type": "markdown",
   "metadata": {},
   "source": [
    "# Binance\n",
    "\n",
    "- Extraímos histórico de alguma coisa \n",
    "    - só pode ser extraído 6 por mês;\n",
    "    - o período máximo é de 12 meses de extensão;\n",
    "    - Primeira transação: 04-01-2022;\n",
    "    - Último registro: 11-01-2023.\n",
    "    - Refazer o Request sem marcar a opção \"Ocultar Registros de Transferência\""
   ]
  },
  {
   "cell_type": "code",
   "execution_count": 1,
   "metadata": {},
   "outputs": [],
   "source": [
    "# O extrato da binance vem como um csv com aspas duplas entre os registros. Tiramos aqui.\n",
    "with open('data/raw/extrato_binance_2022.csv', \"r+\", encoding=\"utf-8\") as csv_file:\n",
    "    content = csv_file.read()\n",
    "\n",
    "with open('data/raw/extrato_binance_2022.csv', \"w+\", encoding=\"utf-8\") as csv_file:\n",
    "    csv_file.write(content.replace('\"', ''))\n",
    "\n",
    "\n",
    "with open('data/raw/extrato_binance_2023.csv', \"r+\", encoding=\"utf-8\") as csv_file:\n",
    "    content = csv_file.read()\n",
    "\n",
    "with open('data/raw/extrato_binance_2023.csv', \"w+\", encoding=\"utf-8\") as csv_file:\n",
    "    csv_file.write(content.replace('\"', ''))\n"
   ]
  },
  {
   "cell_type": "code",
   "execution_count": 4,
   "metadata": {},
   "outputs": [],
   "source": [
    "binance22 = pd.read_csv('data/raw/extrato_binance_2022.csv')\n",
    "binance23 = pd.read_csv('data/raw/extrato_binance_2023.csv')\n",
    "binance = pd.concat([binance22,binance23], ignore_index=True)"
   ]
  },
  {
   "cell_type": "code",
   "execution_count": 86,
   "metadata": {},
   "outputs": [],
   "source": [
    "binance.drop(['User_ID', 'Remark'], axis=1, inplace=True)\n",
    "binance['UTC_Time'] = pd.to_datetime(binance['UTC_Time'])\n",
    "binance.sort_values('UTC_Time', inplace=True)"
   ]
  },
  {
   "cell_type": "code",
   "execution_count": 90,
   "metadata": {},
   "outputs": [],
   "source": [
    "binance.to_csv('data/processed/extrato_binance.csv')"
   ]
  }
 ],
 "metadata": {
  "kernelspec": {
   "display_name": "base",
   "language": "python",
   "name": "python3"
  },
  "language_info": {
   "codemirror_mode": {
    "name": "ipython",
    "version": 3
   },
   "file_extension": ".py",
   "mimetype": "text/x-python",
   "name": "python",
   "nbconvert_exporter": "python",
   "pygments_lexer": "ipython3",
   "version": "3.7.6"
  },
  "orig_nbformat": 4,
  "vscode": {
   "interpreter": {
    "hash": "78a48a3d8cd2a4e53d9f5cc9f44b1c3b7489f426842a9267f50c2db7a0ea3a37"
   }
  }
 },
 "nbformat": 4,
 "nbformat_minor": 2
}

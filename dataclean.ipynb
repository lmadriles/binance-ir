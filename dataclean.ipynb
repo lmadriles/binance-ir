{
 "cells": [
  {
   "cell_type": "code",
   "execution_count": 10,
   "metadata": {},
   "outputs": [],
   "source": [
    "import pandas as pd\n",
    "from datetime import timedelta"
   ]
  },
  {
   "attachments": {},
   "cell_type": "markdown",
   "metadata": {},
   "source": [
    "Receber os dados raw e salvar em como queremos trabalhar"
   ]
  },
  {
   "attachments": {},
   "cell_type": "markdown",
   "metadata": {},
   "source": [
    "# Binance\n",
    "\n",
    "- Extraímos histórico de alguma coisa \n",
    "    - só pode ser extraído 6 por mês;\n",
    "    - o período máximo é de 12 meses de extensão;\n",
    "    - Primeira transação: 04-01-2022;\n",
    "    - Último registro: 11-01-2023.\n",
    "    - Refazer o Request sem marcar a opção \"Ocultar Registros de Transferência\""
   ]
  },
  {
   "cell_type": "code",
   "execution_count": 11,
   "metadata": {},
   "outputs": [],
   "source": [
    "binance22 = pd.read_csv('data/raw/extrato_binance_2022.csv')\n",
    "binance23 = pd.read_csv('data/raw/extrato_binance_2023.csv')\n",
    "binance = pd.concat([binance22,binance23], ignore_index=True)"
   ]
  },
  {
   "cell_type": "code",
   "execution_count": 12,
   "metadata": {},
   "outputs": [],
   "source": [
    "binance.drop(['User_ID', 'Remark'], axis=1, inplace=True)\n",
    "binance['UTC_Time'] = pd.to_datetime(binance['UTC_Time'])\n",
    "binance.sort_values('UTC_Time', inplace=True)"
   ]
  },
  {
   "cell_type": "code",
   "execution_count": 13,
   "metadata": {},
   "outputs": [],
   "source": [
    "# fix delay of one second / do later: do it only for binance['Operation'].isin(['Transaction Related', 'Large OTC Trading'])\n",
    "mask = binance['UTC_Time'] == binance['UTC_Time'].shift() + timedelta(seconds=1)\n",
    "binance.loc[mask, 'UTC_Time'] -= timedelta(seconds=1)"
   ]
  },
  {
   "cell_type": "code",
   "execution_count": 14,
   "metadata": {},
   "outputs": [],
   "source": [
    "binance.to_csv('data/processed/extrato_binance.csv')"
   ]
  }
 ],
 "metadata": {
  "kernelspec": {
   "display_name": "base",
   "language": "python",
   "name": "python3"
  },
  "language_info": {
   "codemirror_mode": {
    "name": "ipython",
    "version": 3
   },
   "file_extension": ".py",
   "mimetype": "text/x-python",
   "name": "python",
   "nbconvert_exporter": "python",
   "pygments_lexer": "ipython3",
   "version": "3.7.6"
  },
  "orig_nbformat": 4,
  "vscode": {
   "interpreter": {
    "hash": "78a48a3d8cd2a4e53d9f5cc9f44b1c3b7489f426842a9267f50c2db7a0ea3a37"
   }
  }
 },
 "nbformat": 4,
 "nbformat_minor": 2
}

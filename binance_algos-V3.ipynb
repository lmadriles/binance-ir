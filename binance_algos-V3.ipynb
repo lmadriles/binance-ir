{
 "cells": [
  {
   "cell_type": "code",
   "execution_count": 1,
   "metadata": {},
   "outputs": [],
   "source": [
    "import pandas as pd"
   ]
  },
  {
   "cell_type": "code",
   "execution_count": null,
   "metadata": {},
   "outputs": [],
   "source": [
    "# treating the data\n",
    "binance = pd.read_csv('data/processed/extrato_binance.csv', index_col=0)\n",
    "binance.sort_index(inplace=True)\n",
    "binance['UTC_Time'] = pd.to_datetime(binance['UTC_Time'])"
   ]
  },
  {
   "cell_type": "code",
   "execution_count": null,
   "metadata": {},
   "outputs": [],
   "source": [
    "pd.set_option('display.float_format', lambda x: '%.8f' % x) \n",
    "# change the visualization of a float to eight decimal digits."
   ]
  },
  {
   "cell_type": "code",
   "execution_count": null,
   "metadata": {},
   "outputs": [],
   "source": [
    "# fix one register in a dumb form \n",
    "binance.loc[57,'UTC_Time'] = binance.loc[56,'UTC_Time']"
   ]
  },
  {
   "cell_type": "code",
   "execution_count": null,
   "metadata": {},
   "outputs": [],
   "source": [
    "# Preparing data\n",
    "def cache_transaction(df, column):\n",
    "    df['Ticker_cache'] = df['Coin'].shift() * (df[column] == df[column].shift())\n",
    "    df['Value_cache'] = df['Change'].shift() * (df[column] == df[column].shift())\n",
    "    return \n",
    "cache_transaction(binance, 'UTC_Time')"
   ]
  },
  {
   "cell_type": "code",
   "execution_count": null,
   "metadata": {},
   "outputs": [],
   "source": [
    "# Guardando info do saldo na binance\n",
    "wallet = binance.groupby('Coin').agg({'UTC_Time': 'first'}).sort_values('UTC_Time') # Primeira ocorrência de cada moeda\n",
    "wallet['Balance'] = 0\n",
    "wallet['BRL_spent'] = 0\n"
   ]
  },
  {
   "cell_type": "code",
   "execution_count": null,
   "metadata": {},
   "outputs": [],
   "source": [
    "# trezor\n",
    "index_names = list(binance[binance['Operation'].isin(['Fiat Withdraw', 'Withdraw'])]['Coin'].unique())\n",
    "data = {'Amount': [0.0]*len(index_names), 'BRL_spent': [0.0]*len(index_names)}\n",
    "coldwallet = pd.DataFrame(data, index=index_names)"
   ]
  },
  {
   "cell_type": "code",
   "execution_count": 5,
   "metadata": {},
   "outputs": [
    {
     "ename": "ValueError",
     "evalue": "triagem can only be applied to a DataFrame once.",
     "output_type": "error",
     "traceback": [
      "\u001b[1;31m---------------------------------------------------------------------------\u001b[0m",
      "\u001b[1;31mValueError\u001b[0m                                Traceback (most recent call last)",
      "\u001b[1;32m<ipython-input-5-7dae9a12f71c>\u001b[0m in \u001b[0;36m<module>\u001b[1;34m\u001b[0m\n\u001b[1;32m----> 1\u001b[1;33m \u001b[0mbinance\u001b[0m\u001b[1;33m.\u001b[0m\u001b[0mapply\u001b[0m\u001b[1;33m(\u001b[0m\u001b[0mtriagem\u001b[0m\u001b[1;33m,\u001b[0m \u001b[0maxis\u001b[0m\u001b[1;33m=\u001b[0m\u001b[1;36m1\u001b[0m\u001b[1;33m)\u001b[0m\u001b[1;33m\u001b[0m\u001b[1;33m\u001b[0m\u001b[0m\n\u001b[0m",
      "\u001b[1;32mc:\\Users\\lmadr\\anaconda3\\lib\\site-packages\\pandas\\core\\frame.py\u001b[0m in \u001b[0;36mapply\u001b[1;34m(self, func, axis, raw, result_type, args, **kwds)\u001b[0m\n\u001b[0;32m   6876\u001b[0m             \u001b[0mkwds\u001b[0m\u001b[1;33m=\u001b[0m\u001b[0mkwds\u001b[0m\u001b[1;33m,\u001b[0m\u001b[1;33m\u001b[0m\u001b[1;33m\u001b[0m\u001b[0m\n\u001b[0;32m   6877\u001b[0m         )\n\u001b[1;32m-> 6878\u001b[1;33m         \u001b[1;32mreturn\u001b[0m \u001b[0mop\u001b[0m\u001b[1;33m.\u001b[0m\u001b[0mget_result\u001b[0m\u001b[1;33m(\u001b[0m\u001b[1;33m)\u001b[0m\u001b[1;33m\u001b[0m\u001b[1;33m\u001b[0m\u001b[0m\n\u001b[0m\u001b[0;32m   6879\u001b[0m \u001b[1;33m\u001b[0m\u001b[0m\n\u001b[0;32m   6880\u001b[0m     \u001b[1;32mdef\u001b[0m \u001b[0mapplymap\u001b[0m\u001b[1;33m(\u001b[0m\u001b[0mself\u001b[0m\u001b[1;33m,\u001b[0m \u001b[0mfunc\u001b[0m\u001b[1;33m)\u001b[0m \u001b[1;33m->\u001b[0m \u001b[1;34m\"DataFrame\"\u001b[0m\u001b[1;33m:\u001b[0m\u001b[1;33m\u001b[0m\u001b[1;33m\u001b[0m\u001b[0m\n",
      "\u001b[1;32mc:\\Users\\lmadr\\anaconda3\\lib\\site-packages\\pandas\\core\\apply.py\u001b[0m in \u001b[0;36mget_result\u001b[1;34m(self)\u001b[0m\n\u001b[0;32m    184\u001b[0m             \u001b[1;32mreturn\u001b[0m \u001b[0mself\u001b[0m\u001b[1;33m.\u001b[0m\u001b[0mapply_raw\u001b[0m\u001b[1;33m(\u001b[0m\u001b[1;33m)\u001b[0m\u001b[1;33m\u001b[0m\u001b[1;33m\u001b[0m\u001b[0m\n\u001b[0;32m    185\u001b[0m \u001b[1;33m\u001b[0m\u001b[0m\n\u001b[1;32m--> 186\u001b[1;33m         \u001b[1;32mreturn\u001b[0m \u001b[0mself\u001b[0m\u001b[1;33m.\u001b[0m\u001b[0mapply_standard\u001b[0m\u001b[1;33m(\u001b[0m\u001b[1;33m)\u001b[0m\u001b[1;33m\u001b[0m\u001b[1;33m\u001b[0m\u001b[0m\n\u001b[0m\u001b[0;32m    187\u001b[0m \u001b[1;33m\u001b[0m\u001b[0m\n\u001b[0;32m    188\u001b[0m     \u001b[1;32mdef\u001b[0m \u001b[0mapply_empty_result\u001b[0m\u001b[1;33m(\u001b[0m\u001b[0mself\u001b[0m\u001b[1;33m)\u001b[0m\u001b[1;33m:\u001b[0m\u001b[1;33m\u001b[0m\u001b[1;33m\u001b[0m\u001b[0m\n",
      "\u001b[1;32mc:\\Users\\lmadr\\anaconda3\\lib\\site-packages\\pandas\\core\\apply.py\u001b[0m in \u001b[0;36mapply_standard\u001b[1;34m(self)\u001b[0m\n\u001b[0;32m    294\u001b[0m             \u001b[1;32mtry\u001b[0m\u001b[1;33m:\u001b[0m\u001b[1;33m\u001b[0m\u001b[1;33m\u001b[0m\u001b[0m\n\u001b[0;32m    295\u001b[0m                 result = libreduction.compute_reduction(\n\u001b[1;32m--> 296\u001b[1;33m                     \u001b[0mvalues\u001b[0m\u001b[1;33m,\u001b[0m \u001b[0mself\u001b[0m\u001b[1;33m.\u001b[0m\u001b[0mf\u001b[0m\u001b[1;33m,\u001b[0m \u001b[0maxis\u001b[0m\u001b[1;33m=\u001b[0m\u001b[0mself\u001b[0m\u001b[1;33m.\u001b[0m\u001b[0maxis\u001b[0m\u001b[1;33m,\u001b[0m \u001b[0mdummy\u001b[0m\u001b[1;33m=\u001b[0m\u001b[0mdummy\u001b[0m\u001b[1;33m,\u001b[0m \u001b[0mlabels\u001b[0m\u001b[1;33m=\u001b[0m\u001b[0mlabels\u001b[0m\u001b[1;33m\u001b[0m\u001b[1;33m\u001b[0m\u001b[0m\n\u001b[0m\u001b[0;32m    297\u001b[0m                 )\n\u001b[0;32m    298\u001b[0m             \u001b[1;32mexcept\u001b[0m \u001b[0mValueError\u001b[0m \u001b[1;32mas\u001b[0m \u001b[0merr\u001b[0m\u001b[1;33m:\u001b[0m\u001b[1;33m\u001b[0m\u001b[1;33m\u001b[0m\u001b[0m\n",
      "\u001b[1;32mpandas\\_libs\\reduction.pyx\u001b[0m in \u001b[0;36mpandas._libs.reduction.compute_reduction\u001b[1;34m()\u001b[0m\n",
      "\u001b[1;32mpandas\\_libs\\reduction.pyx\u001b[0m in \u001b[0;36mpandas._libs.reduction.Reducer.get_result\u001b[1;34m()\u001b[0m\n",
      "\u001b[1;32m<ipython-input-3-b9ecb168a60b>\u001b[0m in \u001b[0;36mwrapper\u001b[1;34m(df, *args, **kwargs)\u001b[0m\n\u001b[0;32m      7\u001b[0m         \u001b[1;32mnonlocal\u001b[0m \u001b[0mapplied\u001b[0m\u001b[1;33m\u001b[0m\u001b[1;33m\u001b[0m\u001b[0m\n\u001b[0;32m      8\u001b[0m         \u001b[1;32mif\u001b[0m \u001b[0mapplied\u001b[0m\u001b[1;33m:\u001b[0m\u001b[1;33m\u001b[0m\u001b[1;33m\u001b[0m\u001b[0m\n\u001b[1;32m----> 9\u001b[1;33m             \u001b[1;32mraise\u001b[0m \u001b[0mValueError\u001b[0m\u001b[1;33m(\u001b[0m\u001b[1;34mf\"{func.__name__} can only be applied to a DataFrame once.\"\u001b[0m\u001b[1;33m)\u001b[0m\u001b[1;33m\u001b[0m\u001b[1;33m\u001b[0m\u001b[0m\n\u001b[0m\u001b[0;32m     10\u001b[0m         \u001b[0mapplied\u001b[0m \u001b[1;33m=\u001b[0m \u001b[1;32mTrue\u001b[0m\u001b[1;33m\u001b[0m\u001b[1;33m\u001b[0m\u001b[0m\n\u001b[0;32m     11\u001b[0m         \u001b[1;32mreturn\u001b[0m \u001b[0mfunc\u001b[0m\u001b[1;33m(\u001b[0m\u001b[0mdf\u001b[0m\u001b[1;33m,\u001b[0m \u001b[1;33m*\u001b[0m\u001b[0margs\u001b[0m\u001b[1;33m,\u001b[0m \u001b[1;33m**\u001b[0m\u001b[0mkwargs\u001b[0m\u001b[1;33m)\u001b[0m\u001b[1;33m\u001b[0m\u001b[1;33m\u001b[0m\u001b[0m\n",
      "\u001b[1;31mValueError\u001b[0m: triagem can only be applied to a DataFrame once."
     ]
    }
   ],
   "source": [
    "binance.apply(triagem, axis=1) "
   ]
  },
  {
   "cell_type": "code",
   "execution_count": 4,
   "metadata": {},
   "outputs": [],
   "source": [
    "# put the decorator here\n",
    "\n",
    "def triagem(serie):\n",
    "    operation = serie['Operation']\n",
    "    \n",
    "    actions = {\n",
    "        'Deposit': deposit,\n",
    "        'Transaction Related': buy,\n",
    "        'Large OTC Trading': convert,\n",
    "        'Fiat Withdraw': withdraw,\n",
    "        'Staking Purchase': change_amount,\n",
    "        'Launchpool Interest': change_amount,\n",
    "        'Simple Earn Flexible Interest': change_amount,\n",
    "        'Staking Rewards': change_amount,\n",
    "        'Staking Redemption': change_amount,\n",
    "        'Cash Voucher Distribution': change_amount,\n",
    "        'Withdraw': withdraw,\n",
    "        'Small Assets Exchange BNB': multiple_BNB_trades,\n",
    "        'Distribution': change_amount,\n",
    "        'Simple Earn Flexible Subscription': lambda x: None,\n",
    "        'Savings Distribution': lambda x: None,\n",
    "        'Simple Earn Flexible Redemption': lambda x: None\n",
    "    }\n",
    "    \n",
    "    action = actions.get(operation)\n",
    "    \n",
    "    if action is None:\n",
    "        raise ValueError('Operation not recognized')\n",
    "    \n",
    "    action(serie)\n",
    "\n",
    "       \n",
    "\n",
    "def deposit(serie):\n",
    "    if serie['Coin']=='BRL':\n",
    "        wallet.loc[serie['Coin'],'Balance'] += serie['Change']\n",
    "        wallet.loc[serie['Coin'],'BRL_spent'] += serie['Change']\n",
    "    else:\n",
    "        BRL_value = coldwallet.loc[serie['Coin'],'BRL_spent']/coldwallet.loc[serie['Coin'],'Amount']*serie['Change']\n",
    "        wallet.loc[serie['Coin'],'Balance'] += serie['Change']\n",
    "        wallet.loc[serie['Coin'],'BRL_spent'] += BRL_value\n",
    "        coldwallet.loc[serie['Coin'],'Amount'] -= serie['Change']\n",
    "        coldwallet.loc[serie['Coin'],'BRL_spent'] -= BRL_value\n",
    "    \n",
    "\n",
    "def buy(serie):\n",
    "\n",
    "    if serie['Ticker_cache']=='': \n",
    "        return\n",
    "\n",
    "    if serie['Coin']=='BRL': \n",
    "\n",
    "        if serie['Change']<0: \n",
    "            wallet.loc[serie['Ticker_cache'],'BRL_spent'] -= serie['Change'] \n",
    "        else: \n",
    "            wallet.loc[serie['Ticker_cache'],'BRL_spent'] += wallet.loc[serie['Ticker_cache'],'BRL_spent'] / wallet.loc[serie['Ticker_cache'],'Balance'] * serie['Value_cache'] \n",
    "\n",
    "    elif serie['Ticker_cache']=='BRL':\n",
    "\n",
    "        if serie['Value_cache']<0: \n",
    "            wallet.loc[serie['Coin'],'BRL_spent'] -= serie['Value_cache']\n",
    "        else:\n",
    "            wallet.loc[serie['Coin'],'BRL_spent'] += wallet.loc[serie['Coin'],'BRL_spent'] / wallet.loc[serie['Coin'],'Balance'] * serie['Change']\n",
    "        \n",
    "    else:\n",
    "        print('No BRL involved in this transaction')\n",
    "    \n",
    "    # update balance\n",
    "    wallet.loc[serie['Coin'],'Balance'] += serie['Change'] \n",
    "    wallet.loc[serie['Ticker_cache'],'Balance'] += serie['Value_cache'] \n",
    "    wallet.loc['BRL', 'BRL_spent'] = wallet.loc['BRL', 'Balance']\n",
    "\n",
    "    return\n",
    "\n",
    "def convert(serie):\n",
    "\n",
    "    if serie['Ticker_cache']=='': \n",
    "        return\n",
    "    \n",
    "    if serie['Coin'] == 'BRL' or serie['Ticker_cache'] == 'BRL':\n",
    "        buy(serie)\n",
    "        return\n",
    " \n",
    "    if serie['Change']<0: # means that serie['Coin'] is leaving; serie['Change'] is negative\n",
    "        # serie['Coin'] BRL equivalent leaving\n",
    "        temp = wallet.loc[serie['Coin'],'BRL_spent'] / wallet.loc[serie['Coin'],'Balance'] * serie['Change'] # aways negative\n",
    "        \n",
    "    else: # means that serie['Ticker_cache'] is leaving, serie['Value_cache'] is negative\n",
    "        temp = -wallet.loc[serie['Ticker_cache'],'BRL_spent'] / wallet.loc[serie['Ticker_cache'],'Balance'] * serie['Value_cache'] # temp goes positive here\n",
    "\n",
    "\n",
    "    # update BRL_spent\n",
    "    wallet.loc[serie['Ticker_cache'], 'BRL_spent'] -= temp # tira se Ticker_cache for saída\n",
    "    wallet.loc[serie['Coin'], 'BRL_spent'] += temp # temp é negativa aqui; menos com mais - \n",
    "\n",
    "    # update balance\n",
    "    wallet.loc[serie['Coin'],'Balance'] += serie['Change'] \n",
    "    wallet.loc[serie['Ticker_cache'],'Balance'] += serie['Value_cache'] \n",
    "\n",
    "\n",
    "\n",
    "def withdraw(serie):\n",
    "    if serie['Coin']=='BRL': # test to avoid mean price (not needed, but saves computing time (worth it?))\n",
    "        coldwallet.loc['BRL', 'Amount'] -= serie['Change'] # serie['Change'] is negative\n",
    "        coldwallet.loc['BRL', 'BRL_spent'] -= serie['Change'] # eliminate this need\n",
    "        wallet.loc['BRL','Balance'] += serie['Change']  # eliminate this need\n",
    "        wallet.loc['BRL','BRL_spent'] += serie['Change']\n",
    "\n",
    "    else:\n",
    "        coldwallet.loc[serie['Coin'], 'Amount'] -= serie['Change']\n",
    "        temp = wallet.loc[serie['Coin'],'BRL_spent'] / wallet.loc[serie['Coin'],'Balance'] * serie['Change']\n",
    "        coldwallet.loc[serie['Coin'], 'BRL_spent'] -=  temp\n",
    "        wallet.loc[serie['Coin'],'Balance'] += serie['Change']\n",
    "        wallet.loc[serie['Coin'],'BRL_spent'] += temp\n",
    "\n",
    "\n",
    "def change_amount(serie):\n",
    "    '''Change the amount without alter cost '''\n",
    "    wallet.loc[serie['Coin'],'Balance'] += serie['Change']\n",
    "\n",
    "\n",
    "def multiple_BNB_trades(serie):\n",
    "    if serie['Coin']=='BNB':\n",
    "        wallet.loc['BNB', 'Balance'] += serie['Change']\n",
    "\n",
    "    else:\n",
    "        wallet.loc[serie['Coin'], 'Balance'] += serie['Change']\n",
    "        wallet.loc['BNB', 'BRL_spent'] += wallet.loc[serie['Coin'], 'BRL_spent']\n",
    "        wallet.loc[serie['Coin'], 'BRL_spent'] = 0"
   ]
  },
  {
   "cell_type": "code",
   "execution_count": null,
   "metadata": {},
   "outputs": [],
   "source": [
    "consolidado = wallet[wallet['Balance']>=0.00000001].copy()\n",
    "consolidado = consolidado.merge(coldwallet, left_index=True, right_index=True, how='left')\n",
    "consolidado['BRL_spent_x'] += consolidado['BRL_spent_y']\n",
    "consolidado['Balance'] += consolidado['Amount']\n",
    "consolidado['mean_price'] = consolidado['BRL_spent_x']/consolidado['Balance']\n",
    "consolidado\n"
   ]
  },
  {
   "cell_type": "code",
   "execution_count": null,
   "metadata": {},
   "outputs": [],
   "source": [
    "coldwallet['mean_price'] = coldwallet['BRL_spent']/coldwallet['Amount']/5.20\n",
    "coldwallet"
   ]
  },
  {
   "cell_type": "code",
   "execution_count": 3,
   "metadata": {},
   "outputs": [],
   "source": [
    "# decorator que ta dando errado, retornando erro na primeira apply\n",
    "def apply_once(func):\n",
    "    \"\"\"\n",
    "    Decorator to ensure that a function is only applied to a DataFrame once.\n",
    "    \"\"\"\n",
    "    applied = False\n",
    "    def wrapper(df, *args, **kwargs):\n",
    "        nonlocal applied\n",
    "        if applied:\n",
    "            raise ValueError(f\"{func.__name__} can only be applied to a DataFrame once.\")\n",
    "        applied = True\n",
    "        return func(df, *args, **kwargs)\n",
    "    return wrapper\n",
    "\n",
    "\n",
    "\n",
    "#@apply_once\n"
   ]
  },
  {
   "attachments": {},
   "cell_type": "markdown",
   "metadata": {},
   "source": [
    "# Visualizações dos dados"
   ]
  },
  {
   "cell_type": "code",
   "execution_count": null,
   "metadata": {},
   "outputs": [],
   "source": [
    "# filtra as operações fora dessa lista\n",
    "binance[~binance['Operation'].isin(['Deposit', 'Transaction Related', 'Large OTC Trading','Fiat Withdraw'])]\n",
    "\n",
    "\n",
    "# filtra até essa data\n",
    "binance[binance['UTC_Time']<'2022-04-28 13:30:52']\n",
    "\n",
    "# Compara datas, armazena na coluna 'delta'; depois filtre pra gente detectar porblemas de pequenos deltas em buy()\n",
    "binance['delta'] = binance['UTC_Time'] - binance['UTC_Time'].shift() \n",
    "\n",
    "# visualizar o dataframe inteiro\n",
    "print(binance[binance['Ticker_cache']!=''].sort_values('Value_cache').to_markdown())\n",
    "\n",
    "# deram esses NaNs com meu algo\n",
    "lista_NaNs = ['2022-04-28 13:30:52','2022-05-08 22:11:09','2022-05-08 22:39:58','2022-05-10 11:14:31','2022-05-11 21:18:48',\n",
    "'2022-05-11 21:48:38','2022-06-07 02:03:47','2022-06-09 15:42:07','2022-06-10 20:48:55','2022-06-13 11:57:29','2022-06-13 13:21:30',\n",
    "'2022-06-14 02:33:07','2022-06-15 21:32:28','2022-06-21 16:56:12','2022-07-01 12:32:30','2022-07-20 12:12:42','2022-07-24 21:32:59',\n",
    "'2022-11-20 01:06:39','2022-11-20 01:07:24','2022-11-20 01:41:55','2022-11-22 02:44:20','2022-11-23 12:27:00','2022-12-03 19:27:12',\n",
    "'2022-12-13 13:06:25','2023-01-07 23:36:07','2023-01-16 19:19:50','2023-01-16 19:20:06','2023-01-20 21:45:55']\n",
    "binance[binance['UTC_Time'].isin(lista_NaNs)]\n",
    "\n",
    "# Somando entrada e saída; zero significa sem prejuízos (não deu zero haha)\n",
    "binance[binance['Operation'].isin(['Staking Purchase', 'Staking Redemption'])].sort_values('Coin')['Change'].sum()\n",
    "\n"
   ]
  }
 ],
 "metadata": {
  "kernelspec": {
   "display_name": "base",
   "language": "python",
   "name": "python3"
  },
  "language_info": {
   "codemirror_mode": {
    "name": "ipython",
    "version": 3
   },
   "file_extension": ".py",
   "mimetype": "text/x-python",
   "name": "python",
   "nbconvert_exporter": "python",
   "pygments_lexer": "ipython3",
   "version": "3.7.6"
  },
  "orig_nbformat": 4,
  "vscode": {
   "interpreter": {
    "hash": "78a48a3d8cd2a4e53d9f5cc9f44b1c3b7489f426842a9267f50c2db7a0ea3a37"
   }
  }
 },
 "nbformat": 4,
 "nbformat_minor": 2
}
